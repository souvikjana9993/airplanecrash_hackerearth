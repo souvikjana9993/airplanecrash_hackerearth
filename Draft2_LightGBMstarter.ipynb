{
 "cells": [
  {
   "cell_type": "code",
   "execution_count": 42,
   "metadata": {},
   "outputs": [],
   "source": [
    "import numpy as np # linear algebra\n",
    "import gc\n",
    "import os\n",
    "import time\n",
    "from operator import itemgetter\n",
    "import lightgbm as lgb\n",
    "\n",
    "import pandas as pd # data processing, CSV file I/O (e.g. pd.read_csv)\n",
    "pd.set_option('display.float_format', lambda x: '%.3f' % x)\n",
    "\n",
    "import matplotlib.pyplot as pltz\n",
    "import seaborn as sns\n",
    "from sklearn.ensemble import RandomForestClassifier\n",
    "from sklearn.model_selection import GridSearchCV,StratifiedKFold,KFold,GroupKFold,train_test_split\n",
    "from sklearn.metrics import f1_score,roc_auc_score,classification_report,confusion_matrix"
   ]
  },
  {
   "cell_type": "code",
   "execution_count": 43,
   "metadata": {},
   "outputs": [],
   "source": [
    "train_df = pd.read_csv(os.path.join(os.getcwd()+'/input/train.csv'))\n",
    "test_df = pd.read_csv(os.path.join(os.getcwd()+'/input/test.csv'))\n",
    "sample_sub_df = pd.read_csv(os.path.join(os.getcwd()+'/input/sample_submission.csv'))"
   ]
  },
  {
   "cell_type": "code",
   "execution_count": 44,
   "metadata": {},
   "outputs": [
    {
     "data": {
      "text/html": [
       "<div>\n",
       "<style scoped>\n",
       "    .dataframe tbody tr th:only-of-type {\n",
       "        vertical-align: middle;\n",
       "    }\n",
       "\n",
       "    .dataframe tbody tr th {\n",
       "        vertical-align: top;\n",
       "    }\n",
       "\n",
       "    .dataframe thead th {\n",
       "        text-align: right;\n",
       "    }\n",
       "</style>\n",
       "<table border=\"1\" class=\"dataframe\">\n",
       "  <thead>\n",
       "    <tr style=\"text-align: right;\">\n",
       "      <th></th>\n",
       "      <th>Severity</th>\n",
       "      <th>Safety_Score</th>\n",
       "      <th>Days_Since_Inspection</th>\n",
       "      <th>Total_Safety_Complaints</th>\n",
       "      <th>Control_Metric</th>\n",
       "      <th>Turbulence_In_gforces</th>\n",
       "      <th>Cabin_Temperature</th>\n",
       "      <th>Accident_Type_Code</th>\n",
       "      <th>Max_Elevation</th>\n",
       "      <th>Violations</th>\n",
       "      <th>Adverse_Weather_Metric</th>\n",
       "      <th>Accident_ID</th>\n",
       "    </tr>\n",
       "  </thead>\n",
       "  <tbody>\n",
       "    <tr>\n",
       "      <th>0</th>\n",
       "      <td>Minor_Damage_And_Injuries</td>\n",
       "      <td>49.224</td>\n",
       "      <td>14</td>\n",
       "      <td>22</td>\n",
       "      <td>71.285</td>\n",
       "      <td>0.272</td>\n",
       "      <td>78.040</td>\n",
       "      <td>2</td>\n",
       "      <td>31335.477</td>\n",
       "      <td>3</td>\n",
       "      <td>0.424</td>\n",
       "      <td>7570</td>\n",
       "    </tr>\n",
       "    <tr>\n",
       "      <th>1</th>\n",
       "      <td>Minor_Damage_And_Injuries</td>\n",
       "      <td>62.466</td>\n",
       "      <td>10</td>\n",
       "      <td>27</td>\n",
       "      <td>72.288</td>\n",
       "      <td>0.424</td>\n",
       "      <td>84.540</td>\n",
       "      <td>2</td>\n",
       "      <td>26024.711</td>\n",
       "      <td>2</td>\n",
       "      <td>0.352</td>\n",
       "      <td>12128</td>\n",
       "    </tr>\n",
       "    <tr>\n",
       "      <th>2</th>\n",
       "      <td>Significant_Damage_And_Fatalities</td>\n",
       "      <td>63.059</td>\n",
       "      <td>13</td>\n",
       "      <td>16</td>\n",
       "      <td>66.363</td>\n",
       "      <td>0.323</td>\n",
       "      <td>78.860</td>\n",
       "      <td>7</td>\n",
       "      <td>39269.054</td>\n",
       "      <td>3</td>\n",
       "      <td>0.003</td>\n",
       "      <td>2181</td>\n",
       "    </tr>\n",
       "    <tr>\n",
       "      <th>3</th>\n",
       "      <td>Significant_Damage_And_Serious_Injuries</td>\n",
       "      <td>48.082</td>\n",
       "      <td>11</td>\n",
       "      <td>9</td>\n",
       "      <td>74.704</td>\n",
       "      <td>0.337</td>\n",
       "      <td>81.790</td>\n",
       "      <td>3</td>\n",
       "      <td>42771.499</td>\n",
       "      <td>1</td>\n",
       "      <td>0.212</td>\n",
       "      <td>5946</td>\n",
       "    </tr>\n",
       "    <tr>\n",
       "      <th>4</th>\n",
       "      <td>Significant_Damage_And_Fatalities</td>\n",
       "      <td>26.484</td>\n",
       "      <td>13</td>\n",
       "      <td>25</td>\n",
       "      <td>47.949</td>\n",
       "      <td>0.541</td>\n",
       "      <td>77.160</td>\n",
       "      <td>3</td>\n",
       "      <td>35509.229</td>\n",
       "      <td>2</td>\n",
       "      <td>0.177</td>\n",
       "      <td>9054</td>\n",
       "    </tr>\n",
       "  </tbody>\n",
       "</table>\n",
       "</div>"
      ],
      "text/plain": [
       "                                  Severity  Safety_Score  \\\n",
       "0                Minor_Damage_And_Injuries        49.224   \n",
       "1                Minor_Damage_And_Injuries        62.466   \n",
       "2        Significant_Damage_And_Fatalities        63.059   \n",
       "3  Significant_Damage_And_Serious_Injuries        48.082   \n",
       "4        Significant_Damage_And_Fatalities        26.484   \n",
       "\n",
       "   Days_Since_Inspection  Total_Safety_Complaints  Control_Metric  \\\n",
       "0                     14                       22          71.285   \n",
       "1                     10                       27          72.288   \n",
       "2                     13                       16          66.363   \n",
       "3                     11                        9          74.704   \n",
       "4                     13                       25          47.949   \n",
       "\n",
       "   Turbulence_In_gforces  Cabin_Temperature  Accident_Type_Code  \\\n",
       "0                  0.272             78.040                   2   \n",
       "1                  0.424             84.540                   2   \n",
       "2                  0.323             78.860                   7   \n",
       "3                  0.337             81.790                   3   \n",
       "4                  0.541             77.160                   3   \n",
       "\n",
       "   Max_Elevation  Violations  Adverse_Weather_Metric  Accident_ID  \n",
       "0      31335.477           3                   0.424         7570  \n",
       "1      26024.711           2                   0.352        12128  \n",
       "2      39269.054           3                   0.003         2181  \n",
       "3      42771.499           1                   0.212         5946  \n",
       "4      35509.229           2                   0.177         9054  "
      ]
     },
     "execution_count": 44,
     "metadata": {},
     "output_type": "execute_result"
    }
   ],
   "source": [
    "train_df.head()"
   ]
  },
  {
   "cell_type": "code",
   "execution_count": 45,
   "metadata": {},
   "outputs": [],
   "source": [
    "def flag_features(train_df):\n",
    "    train_df['Violations_FLAG']=np.where(train_df['Violations']>0,1,0)\n",
    "    train_df['Total_Safety_Complaints_FLAG']=np.where(train_df['Total_Safety_Complaints']>0,1,0)\n",
    "    if 'Accident_ID' in train_df.columns:\n",
    "        return train_df.drop(['Accident_ID'],axis=1)\n",
    "    else:\n",
    "        return train_df\n",
    "\n",
    "#mod features\n",
    "def power_transform(train_df):\n",
    "    train_df['Total_Safety_Complaints_sq'] = np.power(2, train_df['Total_Safety_Complaints'])\n",
    "    train_df['Days_Since_Inspection_sq'] = np.power(2, train_df['Days_Since_Inspection'])\n",
    "    train_df['Safety_Score'] = np.power(2, train_df['Safety_Score'])\n",
    "    return train_df\n",
    "    \n",
    "\n",
    "train_df=flag_features(train_df)\n",
    "test_df2=flag_features(test_df)\n",
    "train_df=power_transform(train_df)\n",
    "test_df2=power_transform(test_df2)"
   ]
  },
  {
   "cell_type": "code",
   "execution_count": 46,
   "metadata": {},
   "outputs": [],
   "source": [
    "class_map = {\n",
    "    'Minor_Damage_And_Injuries': 0,\n",
    "    'Significant_Damage_And_Fatalities': 1,\n",
    "    'Significant_Damage_And_Serious_Injuries': 2,\n",
    "    'Highly_Fatal_And_Damaging': 3\n",
    "}\n",
    "inverse_class_map = {\n",
    "    0: 'Minor_Damage_And_Injuries',\n",
    "    1: 'Significant_Damage_And_Fatalities',\n",
    "    2: 'Significant_Damage_And_Serious_Injuries',\n",
    "    3: 'Highly_Fatal_And_Damaging'\n",
    "}"
   ]
  },
  {
   "cell_type": "code",
   "execution_count": 47,
   "metadata": {},
   "outputs": [],
   "source": [
    "train_df2=train_df.iloc[:9000,:]\n",
    "sample_base=train_df.iloc[9001:,:]"
   ]
  },
  {
   "cell_type": "code",
   "execution_count": 48,
   "metadata": {},
   "outputs": [],
   "source": [
    "params = {\n",
    "          \"objective\" : \"multiclass\",\n",
    "          \"num_class\" : 4,\n",
    "          \"num_leaves\" : 60,\n",
    "          \"max_depth\": -1,\n",
    "          \"learning_rate\" : 0.01,\n",
    "          \"bagging_fraction\" : 0.9,  # subsample\n",
    "          \"feature_fraction\" : 0.9,  # colsample_bytree\n",
    "          \"bagging_freq\" : 5,        # subsample_freq\n",
    "          \"bagging_seed\" : 2018,\n",
    "          \"verbosity\" : -1 }"
   ]
  },
  {
   "cell_type": "code",
   "execution_count": 53,
   "metadata": {
    "collapsed": true
   },
   "outputs": [
    {
     "name": "stdout",
     "output_type": "stream",
     "text": [
      "fold n°0\n"
     ]
    },
    {
     "ename": "TypeError",
     "evalue": "argument of type 'Dataset' is not iterable",
     "output_type": "error",
     "traceback": [
      "\u001b[0;31m---------------------------------------------------------------------------\u001b[0m",
      "\u001b[0;31mTypeError\u001b[0m                                 Traceback (most recent call last)",
      "\u001b[0;32m<ipython-input-53-d7afa12a8e44>\u001b[0m in \u001b[0;36m<module>\u001b[0;34m\u001b[0m\n\u001b[1;32m     19\u001b[0m \u001b[0;34m\u001b[0m\u001b[0m\n\u001b[1;32m     20\u001b[0m     \u001b[0mnum_round\u001b[0m \u001b[0;34m=\u001b[0m \u001b[0;36m10000\u001b[0m\u001b[0;34m\u001b[0m\u001b[0;34m\u001b[0m\u001b[0m\n\u001b[0;32m---> 21\u001b[0;31m     \u001b[0mclf\u001b[0m \u001b[0;34m=\u001b[0m \u001b[0mlgb\u001b[0m\u001b[0;34m.\u001b[0m\u001b[0mtrain\u001b[0m\u001b[0;34m(\u001b[0m \u001b[0mtrn_data\u001b[0m\u001b[0;34m,\u001b[0m \u001b[0mnum_round\u001b[0m\u001b[0;34m,\u001b[0m \u001b[0mvalid_sets\u001b[0m \u001b[0;34m=\u001b[0m \u001b[0;34m[\u001b[0m\u001b[0mtrn_data\u001b[0m\u001b[0;34m,\u001b[0m \u001b[0mval_data\u001b[0m\u001b[0;34m]\u001b[0m\u001b[0;34m,\u001b[0m \u001b[0mverbose_eval\u001b[0m\u001b[0;34m=\u001b[0m\u001b[0;36m1000\u001b[0m\u001b[0;34m,\u001b[0m \u001b[0mearly_stopping_rounds\u001b[0m \u001b[0;34m=\u001b[0m \u001b[0;36m100\u001b[0m\u001b[0;34m)\u001b[0m\u001b[0;34m\u001b[0m\u001b[0;34m\u001b[0m\u001b[0m\n\u001b[0m\u001b[1;32m     22\u001b[0m     \u001b[0moof\u001b[0m\u001b[0;34m[\u001b[0m\u001b[0mval_idx\u001b[0m\u001b[0;34m]\u001b[0m \u001b[0;34m=\u001b[0m \u001b[0mclf\u001b[0m\u001b[0;34m.\u001b[0m\u001b[0mpredict\u001b[0m\u001b[0;34m(\u001b[0m\u001b[0mX\u001b[0m\u001b[0;34m.\u001b[0m\u001b[0miloc\u001b[0m\u001b[0;34m[\u001b[0m\u001b[0mval_idx\u001b[0m\u001b[0;34m]\u001b[0m\u001b[0;34m[\u001b[0m\u001b[0mfeatures\u001b[0m\u001b[0;34m]\u001b[0m\u001b[0;34m,\u001b[0m \u001b[0mnum_iteration\u001b[0m\u001b[0;34m=\u001b[0m\u001b[0mclf\u001b[0m\u001b[0;34m.\u001b[0m\u001b[0mbest_iteration\u001b[0m\u001b[0;34m)\u001b[0m\u001b[0;34m\u001b[0m\u001b[0;34m\u001b[0m\u001b[0m\n\u001b[1;32m     23\u001b[0m \u001b[0;34m\u001b[0m\u001b[0m\n",
      "\u001b[0;32m~/miniconda3/envs/airplanecrash/lib/python3.8/site-packages/lightgbm/engine.py\u001b[0m in \u001b[0;36mtrain\u001b[0;34m(params, train_set, num_boost_round, valid_sets, valid_names, fobj, feval, init_model, feature_name, categorical_feature, early_stopping_rounds, evals_result, verbose_eval, learning_rates, keep_training_booster, callbacks)\u001b[0m\n\u001b[1;32m    144\u001b[0m         \u001b[0mparams\u001b[0m\u001b[0;34m[\u001b[0m\u001b[0;34m'objective'\u001b[0m\u001b[0;34m]\u001b[0m \u001b[0;34m=\u001b[0m \u001b[0;34m'none'\u001b[0m\u001b[0;34m\u001b[0m\u001b[0;34m\u001b[0m\u001b[0m\n\u001b[1;32m    145\u001b[0m     \u001b[0;32mfor\u001b[0m \u001b[0malias\u001b[0m \u001b[0;32min\u001b[0m \u001b[0m_ConfigAliases\u001b[0m\u001b[0;34m.\u001b[0m\u001b[0mget\u001b[0m\u001b[0;34m(\u001b[0m\u001b[0;34m\"num_iterations\"\u001b[0m\u001b[0;34m)\u001b[0m\u001b[0;34m:\u001b[0m\u001b[0;34m\u001b[0m\u001b[0;34m\u001b[0m\u001b[0m\n\u001b[0;32m--> 146\u001b[0;31m         \u001b[0;32mif\u001b[0m \u001b[0malias\u001b[0m \u001b[0;32min\u001b[0m \u001b[0mparams\u001b[0m\u001b[0;34m:\u001b[0m\u001b[0;34m\u001b[0m\u001b[0;34m\u001b[0m\u001b[0m\n\u001b[0m\u001b[1;32m    147\u001b[0m             \u001b[0mnum_boost_round\u001b[0m \u001b[0;34m=\u001b[0m \u001b[0mparams\u001b[0m\u001b[0;34m.\u001b[0m\u001b[0mpop\u001b[0m\u001b[0;34m(\u001b[0m\u001b[0malias\u001b[0m\u001b[0;34m)\u001b[0m\u001b[0;34m\u001b[0m\u001b[0;34m\u001b[0m\u001b[0m\n\u001b[1;32m    148\u001b[0m             \u001b[0mwarnings\u001b[0m\u001b[0;34m.\u001b[0m\u001b[0mwarn\u001b[0m\u001b[0;34m(\u001b[0m\u001b[0;34m\"Found `{}` in params. Will use it instead of argument\"\u001b[0m\u001b[0;34m.\u001b[0m\u001b[0mformat\u001b[0m\u001b[0;34m(\u001b[0m\u001b[0malias\u001b[0m\u001b[0;34m)\u001b[0m\u001b[0;34m)\u001b[0m\u001b[0;34m\u001b[0m\u001b[0;34m\u001b[0m\u001b[0m\n",
      "\u001b[0;31mTypeError\u001b[0m: argument of type 'Dataset' is not iterable"
     ]
    }
   ],
   "source": [
    "X=train_df2.drop(['Severity'],axis=1)\n",
    "y=train_df2['Severity'].map(class_map)\n",
    "\n",
    "features = [c for c in X.columns]\n",
    "\n",
    "\n",
    "skf = KFold(n_splits=5, shuffle=True, random_state=2019)\n",
    "oof = np.zeros((len(X),4))\n",
    "predictions = np.zeros((len(test_df2),4))\n",
    "feature_importance_df = pd.DataFrame()\n",
    "\n",
    "start = time.time()\n",
    "\n",
    "\n",
    "for fold_, (trn_idx, val_idx) in enumerate(skf.split(X.values, y.values)):\n",
    "    print(\"fold n°{}\".format(fold_))\n",
    "    trn_data = lgb.Dataset(X.iloc[trn_idx][features], label=y.iloc[trn_idx])\n",
    "    val_data = lgb.Dataset(X.iloc[val_idx][features], label=y.iloc[val_idx])\n",
    "\n",
    "    num_round = 10000\n",
    "    clf = lgb.train(params, trn_data, num_round, valid_sets = [trn_data, val_data], verbose_eval=1000, early_stopping_rounds = 100)\n",
    "    oof[val_idx] = clf.predict(X.iloc[val_idx][features], num_iteration=clf.best_iteration)\n",
    "    \n",
    "    fold_importance_df = pd.DataFrame()\n",
    "    fold_importance_df[\"feature\"] = features\n",
    "    fold_importance_df[\"importance\"] = clf.feature_importance()\n",
    "    fold_importance_df[\"fold\"] = fold_ + 1\n",
    "    feature_importance_df = pd.concat([feature_importance_df, fold_importance_df], axis=0)\n",
    "    \n",
    "    predictions += clf.predict(test_df2[features], num_iteration=clf.best_iteration) / 5\n",
    "\n"
   ]
  },
  {
   "cell_type": "code",
   "execution_count": 50,
   "metadata": {},
   "outputs": [
    {
     "name": "stdout",
     "output_type": "stream",
     "text": [
      "CV score: 0.95611 \n"
     ]
    }
   ],
   "source": [
    "oofargmax=oof.argmax(axis=1)\n",
    "print(\"CV score: {:<8.5f}\".format(f1_score(y, oofargmax,average='weighted')))"
   ]
  },
  {
   "cell_type": "code",
   "execution_count": 54,
   "metadata": {},
   "outputs": [
    {
     "data": {
      "text/plain": [
       "array([[0., 0., 0., 0.],\n",
       "       [0., 0., 0., 0.],\n",
       "       [0., 0., 0., 0.],\n",
       "       ...,\n",
       "       [0., 0., 0., 0.],\n",
       "       [0., 0., 0., 0.],\n",
       "       [0., 0., 0., 0.]])"
      ]
     },
     "execution_count": 54,
     "metadata": {},
     "output_type": "execute_result"
    }
   ],
   "source": [
    "predictions"
   ]
  },
  {
   "cell_type": "code",
   "execution_count": 52,
   "metadata": {},
   "outputs": [
    {
     "data": {
      "text/html": [
       "<div>\n",
       "<style scoped>\n",
       "    .dataframe tbody tr th:only-of-type {\n",
       "        vertical-align: middle;\n",
       "    }\n",
       "\n",
       "    .dataframe tbody tr th {\n",
       "        vertical-align: top;\n",
       "    }\n",
       "\n",
       "    .dataframe thead th {\n",
       "        text-align: right;\n",
       "    }\n",
       "</style>\n",
       "<table border=\"1\" class=\"dataframe\">\n",
       "  <thead>\n",
       "    <tr style=\"text-align: right;\">\n",
       "      <th></th>\n",
       "      <th>feature</th>\n",
       "      <th>importance</th>\n",
       "      <th>fold</th>\n",
       "    </tr>\n",
       "  </thead>\n",
       "  <tbody>\n",
       "    <tr>\n",
       "      <th>0</th>\n",
       "      <td>Safety_Score</td>\n",
       "      <td>66256</td>\n",
       "      <td>1</td>\n",
       "    </tr>\n",
       "    <tr>\n",
       "      <th>1</th>\n",
       "      <td>Days_Since_Inspection</td>\n",
       "      <td>43066</td>\n",
       "      <td>1</td>\n",
       "    </tr>\n",
       "    <tr>\n",
       "      <th>2</th>\n",
       "      <td>Total_Safety_Complaints</td>\n",
       "      <td>14554</td>\n",
       "      <td>1</td>\n",
       "    </tr>\n",
       "    <tr>\n",
       "      <th>3</th>\n",
       "      <td>Control_Metric</td>\n",
       "      <td>42485</td>\n",
       "      <td>1</td>\n",
       "    </tr>\n",
       "    <tr>\n",
       "      <th>4</th>\n",
       "      <td>Turbulence_In_gforces</td>\n",
       "      <td>23612</td>\n",
       "      <td>1</td>\n",
       "    </tr>\n",
       "    <tr>\n",
       "      <th>5</th>\n",
       "      <td>Cabin_Temperature</td>\n",
       "      <td>20703</td>\n",
       "      <td>1</td>\n",
       "    </tr>\n",
       "    <tr>\n",
       "      <th>6</th>\n",
       "      <td>Accident_Type_Code</td>\n",
       "      <td>5762</td>\n",
       "      <td>1</td>\n",
       "    </tr>\n",
       "    <tr>\n",
       "      <th>7</th>\n",
       "      <td>Max_Elevation</td>\n",
       "      <td>19330</td>\n",
       "      <td>1</td>\n",
       "    </tr>\n",
       "    <tr>\n",
       "      <th>8</th>\n",
       "      <td>Violations</td>\n",
       "      <td>4845</td>\n",
       "      <td>1</td>\n",
       "    </tr>\n",
       "    <tr>\n",
       "      <th>9</th>\n",
       "      <td>Adverse_Weather_Metric</td>\n",
       "      <td>18967</td>\n",
       "      <td>1</td>\n",
       "    </tr>\n",
       "    <tr>\n",
       "      <th>10</th>\n",
       "      <td>Violations_FLAG</td>\n",
       "      <td>68</td>\n",
       "      <td>1</td>\n",
       "    </tr>\n",
       "    <tr>\n",
       "      <th>11</th>\n",
       "      <td>Total_Safety_Complaints_FLAG</td>\n",
       "      <td>163</td>\n",
       "      <td>1</td>\n",
       "    </tr>\n",
       "    <tr>\n",
       "      <th>12</th>\n",
       "      <td>Total_Safety_Complaints_sq</td>\n",
       "      <td>1065</td>\n",
       "      <td>1</td>\n",
       "    </tr>\n",
       "    <tr>\n",
       "      <th>13</th>\n",
       "      <td>Days_Since_Inspection_sq</td>\n",
       "      <td>3444</td>\n",
       "      <td>1</td>\n",
       "    </tr>\n",
       "    <tr>\n",
       "      <th>0</th>\n",
       "      <td>Safety_Score</td>\n",
       "      <td>77974</td>\n",
       "      <td>2</td>\n",
       "    </tr>\n",
       "  </tbody>\n",
       "</table>\n",
       "</div>"
      ],
      "text/plain": [
       "                         feature  importance  fold\n",
       "0                   Safety_Score       66256     1\n",
       "1          Days_Since_Inspection       43066     1\n",
       "2        Total_Safety_Complaints       14554     1\n",
       "3                 Control_Metric       42485     1\n",
       "4          Turbulence_In_gforces       23612     1\n",
       "5              Cabin_Temperature       20703     1\n",
       "6             Accident_Type_Code        5762     1\n",
       "7                  Max_Elevation       19330     1\n",
       "8                     Violations        4845     1\n",
       "9         Adverse_Weather_Metric       18967     1\n",
       "10               Violations_FLAG          68     1\n",
       "11  Total_Safety_Complaints_FLAG         163     1\n",
       "12    Total_Safety_Complaints_sq        1065     1\n",
       "13      Days_Since_Inspection_sq        3444     1\n",
       "0                   Safety_Score       77974     2"
      ]
     },
     "execution_count": 52,
     "metadata": {},
     "output_type": "execute_result"
    }
   ],
   "source": [
    "feature_importance_df.head(15)"
   ]
  },
  {
   "cell_type": "code",
   "execution_count": 26,
   "metadata": {
    "scrolled": true
   },
   "outputs": [
    {
     "name": "stdout",
     "output_type": "stream",
     "text": [
      "CV score: 0.95644 \n"
     ]
    }
   ],
   "source": [
    "#submit2 CV score: 0.95644 "
   ]
  },
  {
   "cell_type": "code",
   "execution_count": 61,
   "metadata": {},
   "outputs": [
    {
     "name": "stdout",
     "output_type": "stream",
     "text": [
      "fold n°0\n",
      "\n",
      "Fold  0\n",
      "0:\tlearn: 1.3464205\ttest: 1.3472251\tbest: 1.3472251 (0)\ttotal: 10.9ms\tremaining: 10.9s\n",
      "200:\tlearn: 0.2916360\ttest: 0.3242386\tbest: 0.3242386 (200)\ttotal: 1.72s\tremaining: 6.85s\n",
      "400:\tlearn: 0.2073085\ttest: 0.2506893\tbest: 0.2506893 (400)\ttotal: 3s\tremaining: 4.48s\n",
      "600:\tlearn: 0.1677697\ttest: 0.2208003\tbest: 0.2207911 (599)\ttotal: 4.27s\tremaining: 2.84s\n",
      "800:\tlearn: 0.1444700\ttest: 0.2047006\tbest: 0.2047006 (800)\ttotal: 5.56s\tremaining: 1.38s\n",
      "999:\tlearn: 0.1264690\ttest: 0.1937062\tbest: 0.1937062 (999)\ttotal: 6.86s\tremaining: 0us\n",
      "\n",
      "bestTest = 0.1937062184\n",
      "bestIteration = 999\n",
      "\n",
      "fold n°1\n",
      "\n",
      "Fold  1\n",
      "0:\tlearn: 1.3446956\ttest: 1.3448221\tbest: 1.3448221 (0)\ttotal: 54.3ms\tremaining: 54.2s\n",
      "200:\tlearn: 0.3022717\ttest: 0.3020873\tbest: 0.3020873 (200)\ttotal: 1.37s\tremaining: 5.44s\n",
      "400:\tlearn: 0.2108642\ttest: 0.2222064\tbest: 0.2222064 (400)\ttotal: 2.65s\tremaining: 3.96s\n",
      "600:\tlearn: 0.1705130\ttest: 0.1914458\tbest: 0.1914458 (600)\ttotal: 3.93s\tremaining: 2.61s\n",
      "800:\tlearn: 0.1453094\ttest: 0.1746498\tbest: 0.1746498 (800)\ttotal: 5.51s\tremaining: 1.37s\n",
      "999:\tlearn: 0.1279092\ttest: 0.1650325\tbest: 0.1650325 (999)\ttotal: 6.79s\tremaining: 0us\n",
      "\n",
      "bestTest = 0.1650324987\n",
      "bestIteration = 999\n",
      "\n",
      "fold n°2\n",
      "\n",
      "Fold  2\n",
      "0:\tlearn: 1.3447145\ttest: 1.3452677\tbest: 1.3452677 (0)\ttotal: 7.11ms\tremaining: 7.1s\n",
      "200:\tlearn: 0.2930906\ttest: 0.3039023\tbest: 0.3039023 (200)\ttotal: 1.32s\tremaining: 5.25s\n",
      "400:\tlearn: 0.2047296\ttest: 0.2283901\tbest: 0.2283901 (400)\ttotal: 2.59s\tremaining: 3.87s\n",
      "600:\tlearn: 0.1662181\ttest: 0.2003225\tbest: 0.2003225 (600)\ttotal: 3.88s\tremaining: 2.57s\n",
      "800:\tlearn: 0.1408187\ttest: 0.1829852\tbest: 0.1829852 (800)\ttotal: 5.15s\tremaining: 1.28s\n",
      "999:\tlearn: 0.1230529\ttest: 0.1728929\tbest: 0.1728705 (995)\ttotal: 6.44s\tremaining: 0us\n",
      "\n",
      "bestTest = 0.1728704972\n",
      "bestIteration = 995\n",
      "\n",
      "Shrink model to first 996 iterations.\n",
      "fold n°3\n",
      "\n",
      "Fold  3\n",
      "0:\tlearn: 1.3446282\ttest: 1.3440280\tbest: 1.3440280 (0)\ttotal: 7.15ms\tremaining: 7.14s\n",
      "200:\tlearn: 0.2956732\ttest: 0.3156091\tbest: 0.3156091 (200)\ttotal: 1.31s\tremaining: 5.21s\n",
      "400:\tlearn: 0.2060140\ttest: 0.2383298\tbest: 0.2383298 (400)\ttotal: 2.62s\tremaining: 3.92s\n",
      "600:\tlearn: 0.1635934\ttest: 0.2060093\tbest: 0.2060093 (600)\ttotal: 3.91s\tremaining: 2.6s\n",
      "800:\tlearn: 0.1392552\ttest: 0.1904587\tbest: 0.1904587 (800)\ttotal: 5.19s\tremaining: 1.29s\n",
      "999:\tlearn: 0.1220691\ttest: 0.1802029\tbest: 0.1801783 (996)\ttotal: 6.46s\tremaining: 0us\n",
      "\n",
      "bestTest = 0.1801783102\n",
      "bestIteration = 996\n",
      "\n",
      "Shrink model to first 997 iterations.\n",
      "fold n°4\n",
      "\n",
      "Fold  4\n",
      "0:\tlearn: 1.3439137\ttest: 1.3438523\tbest: 1.3438523 (0)\ttotal: 6.44ms\tremaining: 6.44s\n",
      "200:\tlearn: 0.2980395\ttest: 0.3104378\tbest: 0.3104378 (200)\ttotal: 1.33s\tremaining: 5.29s\n",
      "400:\tlearn: 0.2072986\ttest: 0.2319904\tbest: 0.2319904 (400)\ttotal: 2.61s\tremaining: 3.9s\n",
      "600:\tlearn: 0.1655687\ttest: 0.2004553\tbest: 0.2004553 (600)\ttotal: 3.96s\tremaining: 2.63s\n",
      "800:\tlearn: 0.1417661\ttest: 0.1838712\tbest: 0.1838712 (800)\ttotal: 5.24s\tremaining: 1.3s\n",
      "999:\tlearn: 0.1235417\ttest: 0.1725851\tbest: 0.1725851 (999)\ttotal: 6.51s\tremaining: 0us\n",
      "\n",
      "bestTest = 0.1725851038\n",
      "bestIteration = 999\n",
      "\n"
     ]
    }
   ],
   "source": [
    "X=train_df2.drop(['Severity'],axis=1)\n",
    "y=train_df2['Severity'].map(class_map)\n",
    "\n",
    "features = [c for c in X.columns]\n",
    "\n",
    "from catboost import Pool, CatBoostClassifier\n",
    "model = CatBoostClassifier(loss_function=\"MultiClass\")\n",
    "kf = KFold(n_splits=5, random_state=42, shuffle=True)\n",
    "\n",
    "y_valid_pred = np.zeros((len(X),4))\n",
    "y_test_pred = np.zeros((len(test_df2),4))\n",
    "\n",
    "start = time.time()\n",
    "\n",
    "\n",
    "for idx, (train_index, valid_index) in enumerate(kf.split(X.values,y.values)):\n",
    "    print(\"fold n°{}\".format(idx))\n",
    "    y_train, y_valid = y.iloc[train_index], y.iloc[valid_index]\n",
    "    X_train, X_valid = X[features].iloc[train_index,:], X[features].iloc[valid_index,:]\n",
    "    _train = Pool(X_train, label=y_train)\n",
    "    _valid = Pool(X_valid, label=y_valid)\n",
    "    print( \"\\nFold \", idx)\n",
    "    fit_model = model.fit(_train,\n",
    "                          eval_set=_valid,\n",
    "                          use_best_model=True,\n",
    "                          verbose=200\n",
    "                         )\n",
    "    pred = fit_model.predict_proba(X_valid)\n",
    "    #print( \"  f1 = \", f1_score(y_valid, pred,average='weighted') )\n",
    "    y_valid_pred[valid_index] = pred\n",
    "    y_test_pred += fit_model.predict_proba(test_df2[features])\n",
    "#y_test_pred /= 5\n",
    "\n"
   ]
  },
  {
   "cell_type": "code",
   "execution_count": 63,
   "metadata": {},
   "outputs": [
    {
     "name": "stdout",
     "output_type": "stream",
     "text": [
      "CV score: 0.95299 \n"
     ]
    }
   ],
   "source": [
    "y_valid_pred2=y_valid_pred.argmax(axis=1)\n",
    "print(\"CV score: {:<8.5f}\".format(f1_score(y, y_valid_pred2,average='weighted')))"
   ]
  },
  {
   "cell_type": "code",
   "execution_count": 65,
   "metadata": {},
   "outputs": [
    {
     "ename": "CatBoostError",
     "evalue": "Feature importance type EFstrType.ShapValues requires training dataset                         to be passed to this function.",
     "output_type": "error",
     "traceback": [
      "\u001b[0;31m---------------------------------------------------------------------------\u001b[0m",
      "\u001b[0;31mCatBoostError\u001b[0m                             Traceback (most recent call last)",
      "\u001b[0;32m<ipython-input-65-17eb698c9f45>\u001b[0m in \u001b[0;36m<module>\u001b[0;34m\u001b[0m\n\u001b[0;32m----> 1\u001b[0;31m \u001b[0mmodel\u001b[0m\u001b[0;34m.\u001b[0m\u001b[0mget_feature_importance\u001b[0m\u001b[0;34m(\u001b[0m\u001b[0mtype\u001b[0m\u001b[0;34m=\u001b[0m\u001b[0;34m\"ShapValues\"\u001b[0m\u001b[0;34m)\u001b[0m\u001b[0;34m\u001b[0m\u001b[0;34m\u001b[0m\u001b[0m\n\u001b[0m",
      "\u001b[0;32m~/miniconda3/envs/airplanecrash/lib/python3.8/site-packages/catboost/core.py\u001b[0m in \u001b[0;36mget_feature_importance\u001b[0;34m(self, data, type, prettified, thread_count, verbose, fstr_type, shap_mode)\u001b[0m\n\u001b[1;32m   2349\u001b[0m                         Pass training dataset to this function.\")\n\u001b[1;32m   2350\u001b[0m                 \u001b[0;32melse\u001b[0m\u001b[0;34m:\u001b[0m\u001b[0;34m\u001b[0m\u001b[0;34m\u001b[0m\u001b[0m\n\u001b[0;32m-> 2351\u001b[0;31m                     raise CatBoostError(\n\u001b[0m\u001b[1;32m   2352\u001b[0m                         \u001b[0;31m\"\u001b[0m\u001b[0mFeature\u001b[0m \u001b[0mimportance\u001b[0m \u001b[0mtype\u001b[0m \u001b[0;34m{\u001b[0m\u001b[0;34m}\u001b[0m \u001b[0mrequires\u001b[0m \u001b[0mtraining\u001b[0m \u001b[0mdataset\u001b[0m\u001b[0;31m \u001b[0m\u001b[0;31m\\\u001b[0m\u001b[0;34m\u001b[0m\u001b[0;34m\u001b[0m\u001b[0m\n\u001b[1;32m   2353\u001b[0m                         to be passed to this function.\".format(type))\n",
      "\u001b[0;31mCatBoostError\u001b[0m: Feature importance type EFstrType.ShapValues requires training dataset                         to be passed to this function."
     ]
    }
   ],
   "source": [
    "model.get_feature_importance(Pool(type=\"ShapValues\")"
   ]
  },
  {
   "cell_type": "code",
   "execution_count": null,
   "metadata": {},
   "outputs": [],
   "source": []
  },
  {
   "cell_type": "code",
   "execution_count": null,
   "metadata": {},
   "outputs": [],
   "source": []
  },
  {
   "cell_type": "code",
   "execution_count": null,
   "metadata": {},
   "outputs": [],
   "source": []
  },
  {
   "cell_type": "code",
   "execution_count": null,
   "metadata": {},
   "outputs": [],
   "source": []
  },
  {
   "cell_type": "code",
   "execution_count": null,
   "metadata": {},
   "outputs": [],
   "source": []
  },
  {
   "cell_type": "code",
   "execution_count": 27,
   "metadata": {},
   "outputs": [],
   "source": [
    "submission_file=pd.DataFrame(test_df['Accident_ID'])\n",
    "submission_file['Severity']=predictions.argmax(axis=1)\n",
    "submission_file['Severity']=submission_file['Severity'].map(inverse_class_map)"
   ]
  },
  {
   "cell_type": "code",
   "execution_count": 29,
   "metadata": {},
   "outputs": [],
   "source": [
    "submission_file.to_csv('final_submit1.csv',index=False)"
   ]
  }
 ],
 "metadata": {
  "kernelspec": {
   "display_name": "Python 3",
   "language": "python",
   "name": "python3"
  },
  "language_info": {
   "codemirror_mode": {
    "name": "ipython",
    "version": 3
   },
   "file_extension": ".py",
   "mimetype": "text/x-python",
   "name": "python",
   "nbconvert_exporter": "python",
   "pygments_lexer": "ipython3",
   "version": "3.8.1"
  }
 },
 "nbformat": 4,
 "nbformat_minor": 4
}
